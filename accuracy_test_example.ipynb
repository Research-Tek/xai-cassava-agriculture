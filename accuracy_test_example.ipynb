{
 "cells": [
  {
   "cell_type": "markdown",
   "source": [
    "# Accuracy Test\n",
    "\n",
    "This test measures the accuracy of the decision engine with images from the validation set of the image classifier.\n",
    "The ontology is fed with sensor data that is in the range specified in the expert rules for the ground truth label with a probability $\\geq 60\\%$."
   ],
   "metadata": {
    "collapsed": false,
    "pycharm": {
     "name": "#%% md\n"
    }
   }
  },
  {
   "cell_type": "code",
   "execution_count": 7,
   "outputs": [],
   "source": [
    "import datetime\n",
    "from pathlib import Path\n",
    "import time\n",
    "\n",
    "import pandas\n",
    "import pandas as pd\n",
    "import requests\n",
    "from tqdm.notebook import tqdm\n",
    "from numpy.random import default_rng\n",
    "import numpy as np"
   ],
   "metadata": {
    "collapsed": false,
    "pycharm": {
     "name": "#%%\n"
    }
   }
  },
  {
   "cell_type": "markdown",
   "source": [
    "Define the sensor value ranges, so they can be used as boundaries of a uniform distribution.\n",
    "The boundaries are chosen in such a way that the expert rule will be fulfilled with a probability p where $0.6 \\leq p \\leq 1$.\n",
    "This should simulate, that a disease is likely to be encountered in a favorable environment for the disease."
   ],
   "metadata": {
    "collapsed": false,
    "pycharm": {
     "name": "#%% md\n"
    }
   }
  },
  {
   "cell_type": "code",
   "execution_count": 8,
   "outputs": [],
   "source": [
    "DISEASES = [\n",
    "    'cassava_bacterial_blight',\n",
    "    'cassava_brown_streak_disease',\n",
    "    'cassava_green_mottle',\n",
    "    'cassava_mosaic_disease',\n",
    "    'healthy',\n",
    "]\n",
    "\n",
    "SENSOR_RANGES = {\n",
    "    'cassava_bacterial_blight': {\n",
    "        'SoilMoisture': (0.1, 1),\n",
    "        'SoilPH': (6.3, 7.5),\n",
    "        'SoilTemperature': (23, 31),\n",
    "    },\n",
    "    'cassava_brown_streak_disease': {\n",
    "        'RelativeHumidity': (0.65, 0.88),\n",
    "        'SoilMoisture': (0.0, 1.0),\n",
    "        'SoilTemperature': (5, 33),\n",
    "    },\n",
    "    'cassava_green_mottle': {\n",
    "        'SoilMoisture': (0.55, 1.0),\n",
    "        'RelativeHumidity': (0.6, 1.0),\n",
    "        'SoilTemperature': (24, 40)\n",
    "    },\n",
    "    'cassava_mosaic_disease': {\n",
    "        'Temperature': (20, 50),\n",
    "        'SoilMoisture': (0.1, 1),\n",
    "        'SoilTemperature': (18, 34),\n",
    "        'RelativeHumidity': (0.7, 1)\n",
    "    },\n",
    "    'healthy': {\n",
    "        'Temperature': (0, 50),\n",
    "        'SoilMoisture': (0.2, 0.8),\n",
    "        'SoilTemperature': (0, 40),\n",
    "        'RelativeHumidity': (0.2, 0.8),\n",
    "        'SoilPH': (3.0, 10.0),\n",
    "    }\n",
    "}\n",
    "\n",
    "SENSOR_RULE_RANGES = {\n",
    "    'cassava_bacterial_blight': {\n",
    "        'SoilMoisture': (0.3, 1),\n",
    "        'SoilPH': (6.5, 7.2),\n",
    "        'SoilTemperature': (25, 30),\n",
    "    },\n",
    "    'cassava_brown_streak_disease': {\n",
    "        'RelativeHumidity': (0.7, 0.85),\n",
    "        'SoilMoisture': (0.1, 1.0),\n",
    "        'SoilTemperature': (10, 32),\n",
    "    },\n",
    "    'cassava_green_mottle': {\n",
    "        'SoilMoisture': (0.7, 1.0),\n",
    "        'RelativeHumidity': (0.7, 1.0),\n",
    "        'SoilTemperature': (27, 40)\n",
    "    },\n",
    "    'cassava_mosaic_disease': {\n",
    "        'Temperature': (30, 50),\n",
    "        'SoilMoisture': (0.3, 1),\n",
    "        'SoilTemperature': (20, 32),\n",
    "        'RelativeHumidity': (0.8, 1)\n",
    "    },\n",
    "    'healthy': {\n",
    "        'Temperature': (0, 50),\n",
    "        'SoilMoisture': (0.2, 0.8),\n",
    "        'SoilTemperature': (0, 40),\n",
    "        'RelativeHumidity': (0.2, 0.8),\n",
    "        'SoilPH': (3.0, 10.0),\n",
    "    }\n",
    "}\n",
    "\n",
    "PLANTS_FOR_DISEASES = {\n",
    "    'cassava_bacterial_blight': 1,\n",
    "    'cassava_brown_streak_disease': 2,\n",
    "    'cassava_green_mottle': 3,\n",
    "    'cassava_mosaic_disease': 4,\n",
    "    'healthy': 5\n",
    "}\n",
    "\n",
    "SOIL_PROPERTIES = [\n",
    "    'SoilMoisture',\n",
    "    'SoilTemperature',\n",
    "    'SoilPH'\n",
    "]\n",
    "\n",
    "FIELD_PROPERTIES = [\n",
    "    'Temperature',\n",
    "    'RelativeHumidity'\n",
    "]"
   ],
   "metadata": {
    "collapsed": false,
    "pycharm": {
     "name": "#%%\n"
    }
   }
  },
  {
   "cell_type": "markdown",
   "source": [
    "Configure service endpoints."
   ],
   "metadata": {
    "collapsed": false,
    "pycharm": {
     "name": "#%% md\n"
    }
   }
  },
  {
   "cell_type": "code",
   "execution_count": 9,
   "outputs": [
    {
     "name": "stdout",
     "output_type": "stream",
     "text": [
      "      Unnamed: 0                       image_id  label  source  fold\n",
      "0              5      data/train/1000837476.jpg      3    2020     0\n",
      "1              8      data/train/1001723730.jpg      4    2020     0\n",
      "2             11       data/train/100204014.jpg      3    2020     0\n",
      "3             23      data/train/1004672608.jpg      3    2020     0\n",
      "4             28      data/train/1005200906.jpg      2    2020     0\n",
      "...          ...                            ...    ...     ...   ...\n",
      "5263       26295   data/train/train-cbb-164.jpg      0    2019     0\n",
      "5264       26298   data/train/train-cmd-324.jpg      3    2019     0\n",
      "5265       26301  data/train/train-cmd-2096.jpg      3    2019     0\n",
      "5266       26303   data/train/train-cmd-335.jpg      3    2019     0\n",
      "5267       26316  data/train/train-cmd-2258.jpg      3    2019     0\n",
      "\n",
      "[5268 rows x 5 columns]\n"
     ]
    }
   ],
   "source": [
    "ONTO_URL = 'http://localhost:8000'\n",
    "DECISION_URL = 'http://localhost:9000'\n",
    "DATA_PATH = 'data/train/'\n",
    "DISTRIBUTION = \"uniform\"\n",
    "FULL_TEST = True\n",
    "\n",
    "rng = default_rng(12345)\n",
    "VALIDATION_DATASET = \"./checkpoints/fold_0.csv\"\n",
    "valid_df = pd.read_csv(VALIDATION_DATASET)\n",
    "valid_df['image_id'] = list(map(Path(DATA_PATH).joinpath, valid_df['image_id']))"
   ],
   "metadata": {
    "collapsed": false,
    "pycharm": {
     "name": "#%%\n"
    }
   }
  },
  {
   "cell_type": "code",
   "execution_count": 10,
   "outputs": [],
   "source": [
    "def get_range(_property: str, disease: str):\n",
    "    try:\n",
    "        return SENSOR_RANGES[disease][_property]\n",
    "    except KeyError:\n",
    "        return SENSOR_RANGES['healthy'][_property]\n",
    "\n",
    "def generate_observation(_property: str, disease: str, distribution='uniform'):\n",
    "    _range = get_range(_property, disease)\n",
    "    if distribution == \"uniform\":\n",
    "        value = rng.uniform(*_range)\n",
    "    elif distribution == \"normal\":\n",
    "        value = rng.normal(np.mean(_range), (_range[1] - _range[0]/8))\n",
    "    return {\n",
    "       'timestamp': str(datetime.datetime.now()),\n",
    "       'value': value,\n",
    "       'observed_property': _property\n",
    "    }\n",
    "\n",
    "def simulate_sensors(disease: str):\n",
    "    id = PLANTS_FOR_DISEASES[disease]\n",
    "    field_url = f\"{ONTO_URL}/fields/{id}/observations\"\n",
    "    soil_url = f\"{ONTO_URL}/soils/{id}/observations\"\n",
    "\n",
    "    headers = {'content-type': 'application/json',\n",
    "               'accept': 'application/json'}\n",
    "\n",
    "    for _property in SOIL_PROPERTIES:\n",
    "        observation = generate_observation(_property, disease, DISTRIBUTION)\n",
    "        requests.post(soil_url, json=observation, headers=headers)\n",
    "\n",
    "    for _property in FIELD_PROPERTIES:\n",
    "        observation = generate_observation(_property, disease, DISTRIBUTION)\n",
    "\n",
    "        requests.post(field_url, json=observation, headers=headers)"
   ],
   "metadata": {
    "collapsed": false,
    "pycharm": {
     "name": "#%%\n"
    }
   }
  },
  {
   "cell_type": "code",
   "execution_count": 11,
   "outputs": [],
   "source": [
    "def test_decision_engine() -> pandas.DataFrame:\n",
    "    results = []\n",
    "\n",
    "    headers = {\n",
    "               'accept': 'application/json'}\n",
    "\n",
    "    total_samples = len(valid_df) if FULL_TEST else 100\n",
    "\n",
    "    for i, sample in tqdm(valid_df.iterrows(), total=total_samples):\n",
    "        disease = DISEASES[sample['label']]\n",
    "        image = sample['image_id']\n",
    "        plant_id = PLANTS_FOR_DISEASES[disease]\n",
    "\n",
    "        # test fewer samples for tuning\n",
    "        if i >= 100 and not FULL_TEST:\n",
    "            break\n",
    "\n",
    "        simulate_sensors(disease)\n",
    "\n",
    "        start_time = time.time()\n",
    "        with open(image, 'rb') as f:\n",
    "            files = {'image': (image.name, f, 'image/jpg')}\n",
    "            response = requests.post(DECISION_URL + f\"/plants/{plant_id}/predict-disease\",\n",
    "                                     files=files, headers=headers)\n",
    "            end_time = time.time()\n",
    "            decision_time = end_time - start_time\n",
    "            response.raise_for_status()\n",
    "\n",
    "            pred = response.json()\n",
    "\n",
    "            results.append({\n",
    "                'ground_truth': disease,\n",
    "                'prediction': pred['disease'],\n",
    "                'visual_certainty': pred['visual_certainty'],\n",
    "                'knowledge_certainty': pred['knowledge_certainty'],\n",
    "                'image_classification_time': pred['image_classification_time'],\n",
    "                'reasoner_time': pred['reasoner_time'],\n",
    "                'decision_time': decision_time,\n",
    "                'image': str(image)\n",
    "            })\n",
    "\n",
    "    return pd.DataFrame.from_records(results)"
   ],
   "metadata": {
    "collapsed": false,
    "pycharm": {
     "name": "#%%\n"
    }
   }
  },
  {
   "cell_type": "code",
   "execution_count": 12,
   "outputs": [
    {
     "data": {
      "text/plain": "  0%|          | 0/5268 [00:00<?, ?it/s]",
      "application/vnd.jupyter.widget-view+json": {
       "version_major": 2,
       "version_minor": 0,
       "model_id": "ac791702078246eb96c71f4c66116b49"
      },
      "application/json": {
       "n": 0,
       "total": 5268,
       "elapsed": 0.028757333755493164,
       "ncols": null,
       "nrows": null,
       "prefix": "",
       "ascii": false,
       "unit": "it",
       "unit_scale": false,
       "rate": null,
       "bar_format": null,
       "postfix": null,
       "unit_divisor": 1000,
       "initial": 0,
       "colour": null
      }
     },
     "metadata": {},
     "output_type": "display_data"
    }
   ],
   "source": [
    "result = test_decision_engine()"
   ],
   "metadata": {
    "collapsed": false,
    "pycharm": {
     "name": "#%%\n"
    }
   }
  },
  {
   "cell_type": "code",
   "execution_count": 13,
   "outputs": [
    {
     "name": "stdout",
     "output_type": "stream",
     "text": [
      "Accuracy is 0.9050873196659074\n",
      "                      ground_truth                    prediction  \\\n",
      "1                          healthy      cassava_bacterial_blight   \n",
      "4             cassava_green_mottle                       healthy   \n",
      "14                         healthy        cassava_mosaic_disease   \n",
      "28          cassava_mosaic_disease                       healthy   \n",
      "58            cassava_green_mottle                       healthy   \n",
      "...                            ...                           ...   \n",
      "5202        cassava_mosaic_disease  cassava_brown_streak_disease   \n",
      "5204      cassava_bacterial_blight  cassava_brown_streak_disease   \n",
      "5216          cassava_green_mottle  cassava_brown_streak_disease   \n",
      "5227  cassava_brown_streak_disease        cassava_mosaic_disease   \n",
      "5234  cassava_brown_streak_disease                       healthy   \n",
      "\n",
      "      visual_certainty  knowledge_certainty  image_classification_time  \\\n",
      "1             0.997882             0.250000                   0.948990   \n",
      "4             0.996812             0.428571                   0.915292   \n",
      "14            0.915631             0.500000                   0.878515   \n",
      "28            0.993959             0.500000                   0.853211   \n",
      "58            0.973227             0.214286                   0.899828   \n",
      "...                ...                  ...                        ...   \n",
      "5202          0.999189             1.000000                   0.846291   \n",
      "5204          0.504222             0.666667                   0.870388   \n",
      "5216          0.948675             0.666667                   0.885814   \n",
      "5227          0.995492             0.500000                   0.984010   \n",
      "5234          0.000421             1.000000                   0.893004   \n",
      "\n",
      "      reasoner_time  decision_time                           image  \n",
      "1          2.800710       3.758605       data/train/1001723730.jpg  \n",
      "4          2.399940       3.332288       data/train/1005200906.jpg  \n",
      "14         2.587824       3.481451       data/train/1014332426.jpg  \n",
      "28         3.069863       3.934169       data/train/1032383932.jpg  \n",
      "58         3.010342       3.922113       data/train/1054048740.jpg  \n",
      "...             ...            ...                             ...  \n",
      "5202       2.949225       3.805813    data/train/train-cmd-378.jpg  \n",
      "5204       2.921425       3.801829     data/train/train-cbb-15.jpg  \n",
      "5216       2.794221       3.690593     data/train/train-cgm-72.jpg  \n",
      "5227       2.893220       3.888682  data/train/train-cbsd-1050.jpg  \n",
      "5234       2.959434       3.865085  data/train/train-cbsd-1344.jpg  \n",
      "\n",
      "[500 rows x 8 columns]\n"
     ]
    }
   ],
   "source": [
    "matches = result[result['ground_truth'] == result['prediction']]\n",
    "accuracy = len(matches)/len(result)\n",
    "print(f\"Accuracy is {accuracy}\")\n",
    "errors = result[result['ground_truth'] != result['prediction']]\n",
    "print(errors)\n"
   ],
   "metadata": {
    "collapsed": false,
    "pycharm": {
     "name": "#%%\n"
    }
   }
  },
  {
   "cell_type": "markdown",
   "source": [
    "uniform distribution + volo_d2_384\n",
    "\n",
    "| Image Weight | Knowledge Weight | Accuracy 100 | Accuracy Full | classifier |\n",
    "|--------------|------------------|--------------|---------------|------------|\n",
    "| 0.5          | 0.5              | 0.9          | 0.905         | 0.8964     |\n",
    "| 0.4          | 0.6              | 0.88         | -             | -          |\n",
    "| 0.3          | 0.7              | 0.75         | -             | -          |\n",
    "| 0.6          | 0.4              | 0.89         | -             | -          |\n",
    "| 0.7          | 0.3              | 0.89         | -             | -          |"
   ],
   "metadata": {
    "collapsed": false,
    "pycharm": {
     "name": "#%% md\n"
    }
   }
  },
  {
   "cell_type": "code",
   "execution_count": 14,
   "outputs": [
    {
     "name": "stdout",
     "output_type": "stream",
     "text": [
      "avg_decision_time: 3.851396314782814\n",
      "avg_classification_time: 0.9235793290123762\n",
      "avg_reasoner_time: 2.916423389426487\n"
     ]
    }
   ],
   "source": [
    "result.to_csv(\"./times.csv\", columns=['decision_time',\n",
    "                                      'image_classification_time',\n",
    "                                      'reasoner_time'] )\n",
    "\n",
    "print(f\"avg_decision_time: {result['decision_time'].mean()}\")\n",
    "print(f\"avg_classification_time: {result['image_classification_time'].mean()}\")\n",
    "print(f\"avg_reasoner_time: {result['reasoner_time'].mean()}\")"
   ],
   "metadata": {
    "collapsed": false,
    "pycharm": {
     "name": "#%%\n"
    }
   }
  },
  {
   "cell_type": "markdown",
   "source": [
    "```\n",
    "avg_decision_time: 3.6626797550796444\n",
    "avg_classification_time: 0.21957266697071337\n",
    "avg_reasoner_time: 3.4327719566600225\n",
    "```"
   ],
   "metadata": {
    "collapsed": false,
    "pycharm": {
     "name": "#%% md\n"
    }
   }
  }
 ],
 "metadata": {
  "kernelspec": {
   "display_name": "Python 3",
   "language": "python",
   "name": "python3"
  },
  "language_info": {
   "codemirror_mode": {
    "name": "ipython",
    "version": 2
   },
   "file_extension": ".py",
   "mimetype": "text/x-python",
   "name": "python",
   "nbconvert_exporter": "python",
   "pygments_lexer": "ipython2",
   "version": "2.7.6"
  }
 },
 "nbformat": 4,
 "nbformat_minor": 0
}
